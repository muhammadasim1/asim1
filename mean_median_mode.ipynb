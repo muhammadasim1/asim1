{
 "cells": [
  {
   "cell_type": "code",
   "execution_count": 33,
   "metadata": {},
   "outputs": [
    {
     "data": {
      "text/plain": [
       "41.666666666666664"
      ]
     },
     "execution_count": 33,
     "metadata": {},
     "output_type": "execute_result"
    }
   ],
   "source": [
    "#find mean\n",
    "values=[25,25,35,45,55,65]\n",
    "sum(values)/len(values)"
   ]
  },
  {
   "cell_type": "code",
   "execution_count": 34,
   "metadata": {},
   "outputs": [
    {
     "name": "stdout",
     "output_type": "stream",
     "text": [
      "sum of the total values in a list 250\n",
      "41.666666666666664\n"
     ]
    }
   ],
   "source": [
    "#find mean in function\n",
    "def mean(list):\n",
    "    total=0\n",
    "    for element in range(0,len(list)):\n",
    "        total=total+list[element]\n",
    "    print(\"sum of the total values in a list\",total)\n",
    "    mean= total/len(list)\n",
    "    print(mean)\n",
    "mean([25,25,35,45,55,65])"
   ]
  },
  {
   "cell_type": "code",
   "execution_count": 35,
   "metadata": {},
   "outputs": [
    {
     "name": "stdout",
     "output_type": "stream",
     "text": [
      "lenth of data: 5\n",
      "value of median is: 4\n"
     ]
    }
   ],
   "source": [
    "#find median\n",
    "def median(list):\n",
    "    list.sort()\n",
    "    print(\"lenth of data:\",len(list))\n",
    "    even1=len(list)/2\n",
    "    even2=(len(list)/2)+2\n",
    "    odd1=(len(list)/2)+1\n",
    "    odd2=(len(list)/2)+2\n",
    "    if(len(list)%2==0):\n",
    "        s=list[int(even1):int(even2)]\n",
    "        add=(s[0]+s[1])/2\n",
    "        print(\"value of median is:\",add)\n",
    "    else:\n",
    "        s=list[int(odd1):int(odd2)]\n",
    "        print(\"value of median is:\",s[0])\n",
    "median([1,2,3,4,5])"
   ]
  },
  {
   "cell_type": "code",
   "execution_count": 38,
   "metadata": {},
   "outputs": [
    {
     "ename": "SyntaxError",
     "evalue": "unexpected EOF while parsing (<ipython-input-38-4ff8db772489>, line 2)",
     "output_type": "error",
     "traceback": [
      "\u001b[1;36m  File \u001b[1;32m\"<ipython-input-38-4ff8db772489>\"\u001b[1;36m, line \u001b[1;32m2\u001b[0m\n\u001b[1;33m    def mode(list):\u001b[0m\n\u001b[1;37m                   ^\u001b[0m\n\u001b[1;31mSyntaxError\u001b[0m\u001b[1;31m:\u001b[0m unexpected EOF while parsing\n"
     ]
    }
   ],
   "source": [
    "#find mode\n",
    "def mode(list):\n",
    "    return max(set(list),key=list.count)"
   ]
  },
  {
   "cell_type": "code",
   "execution_count": null,
   "metadata": {},
   "outputs": [],
   "source": []
  }
 ],
 "metadata": {
  "kernelspec": {
   "display_name": "Python 3",
   "language": "python",
   "name": "python3"
  },
  "language_info": {
   "codemirror_mode": {
    "name": "ipython",
    "version": 3
   },
   "file_extension": ".py",
   "mimetype": "text/x-python",
   "name": "python",
   "nbconvert_exporter": "python",
   "pygments_lexer": "ipython3",
   "version": "3.8.5"
  }
 },
 "nbformat": 4,
 "nbformat_minor": 4
}
