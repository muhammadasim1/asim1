{
 "cells": [
  {
   "cell_type": "markdown",
   "metadata": {},
   "source": [
    "# Chapter 2 variable and simple data types"
   ]
  },
  {
   "cell_type": "code",
   "execution_count": 30,
   "metadata": {},
   "outputs": [
    {
     "name": "stdout",
     "output_type": "stream",
     "text": [
      "my name is Asim and i am a student of AI & DS\n"
     ]
    }
   ],
   "source": [
    "#excercise 2-1\n",
    "introduction=\"my name is Asim and i am a student of AI & DS\"\n",
    "print(introduction)"
   ]
  },
  {
   "cell_type": "code",
   "execution_count": 31,
   "metadata": {},
   "outputs": [],
   "source": [
    "#excercise 2-2\n",
    "#change the value of a variable\n",
    "introduction=\"i am a student of AI & DS\""
   ]
  },
  {
   "cell_type": "code",
   "execution_count": 32,
   "metadata": {},
   "outputs": [
    {
     "name": "stdout",
     "output_type": "stream",
     "text": [
      "i am a student of AI & DS\n"
     ]
    }
   ],
   "source": [
    "print(introduction)"
   ]
  },
  {
   "cell_type": "code",
   "execution_count": 44,
   "metadata": {},
   "outputs": [
    {
     "name": "stdout",
     "output_type": "stream",
     "text": [
      "Hello Muhammad Asim would you like to learn some python today\n"
     ]
    }
   ],
   "source": [
    "#excercise 2-3\n",
    "#Personal message\n",
    "name=\"Muhammad Asim\"\n",
    "print(\"Hello \"+name.title()+\" would you like to learn some python today\")"
   ]
  },
  {
   "cell_type": "code",
   "execution_count": 45,
   "metadata": {},
   "outputs": [
    {
     "name": "stdout",
     "output_type": "stream",
     "text": [
      "Muhammad Asim\n",
      "MUHAMMAD ASIM\n",
      "muhammad asim\n"
     ]
    }
   ],
   "source": [
    "#excercise 2-4\n",
    "#Name cases\n",
    "name=\"Muhammad Asim\"\n",
    "print(name.title())\n",
    "print(name.upper())\n",
    "print(name.lower())"
   ]
  },
  {
   "cell_type": "code",
   "execution_count": 53,
   "metadata": {},
   "outputs": [
    {
     "name": "stdout",
     "output_type": "stream",
     "text": [
      "Alber einstein once said \"A person who never made a mistake never tried anything new.\"\n"
     ]
    }
   ],
   "source": [
    "#excercise 2-5\n",
    "print('Alber einstein once said \"A person who never made a mistake never tried anything new.\"')"
   ]
  },
  {
   "cell_type": "code",
   "execution_count": 57,
   "metadata": {},
   "outputs": [
    {
     "name": "stdout",
     "output_type": "stream",
     "text": [
      "Albert Einstein once said A person who never made a mistake never tried anything new.\n"
     ]
    }
   ],
   "source": [
    "#excercise 2-6\n",
    "famous_person=\"Albert Einstein\"\n",
    "message=\"once said A person who never made a mistake never tried anything new.\"\n",
    "print(famous_person+\" \"+message)"
   ]
  },
  {
   "cell_type": "code",
   "execution_count": 69,
   "metadata": {},
   "outputs": [
    {
     "name": "stdout",
     "output_type": "stream",
     "text": [
      "\n",
      "\tAsim \n"
     ]
    },
    {
     "data": {
      "text/plain": [
       "'Asim'"
      ]
     },
     "execution_count": 69,
     "metadata": {},
     "output_type": "execute_result"
    }
   ],
   "source": [
    "#excercise 2-7\n",
    "#striping names\n",
    "name= \"\\n\\tAsim \"\n",
    "print(name)\n",
    "#remove the whitespace from right side\n",
    "name=\"Asim \"\n",
    "name.rstrip()"
   ]
  },
  {
   "cell_type": "code",
   "execution_count": 71,
   "metadata": {},
   "outputs": [
    {
     "data": {
      "text/plain": [
       "'Asim'"
      ]
     },
     "execution_count": 71,
     "metadata": {},
     "output_type": "execute_result"
    }
   ],
   "source": [
    "#remove the whitespace from left side\n",
    "name=\" Asim\"\n",
    "name.lstrip()"
   ]
  },
  {
   "cell_type": "code",
   "execution_count": 74,
   "metadata": {},
   "outputs": [
    {
     "data": {
      "text/plain": [
       "'Asim'"
      ]
     },
     "execution_count": 74,
     "metadata": {},
     "output_type": "execute_result"
    }
   ],
   "source": [
    "#remove the whitespace from both sides\n",
    "name=\" Asim \"\n",
    "name.strip()"
   ]
  },
  {
   "cell_type": "code",
   "execution_count": 77,
   "metadata": {},
   "outputs": [
    {
     "name": "stdout",
     "output_type": "stream",
     "text": [
      "10\n",
      "10\n",
      "2.5\n",
      "10\n"
     ]
    }
   ],
   "source": [
    "#excercise 2-8\n",
    "#add,subtract,multiply and divide\n",
    "print(5+5)\n",
    "print(15-5)\n",
    "print(5/2)\n",
    "print(2*5)"
   ]
  },
  {
   "cell_type": "code",
   "execution_count": 81,
   "metadata": {},
   "outputs": [
    {
     "name": "stdout",
     "output_type": "stream",
     "text": [
      "9 is my lucky number\n"
     ]
    }
   ],
   "source": [
    "#excercise 2-9\n",
    "lucky_num=9\n",
    "print(str(lucky_num)+\" is my lucky number\")"
   ]
  },
  {
   "cell_type": "markdown",
   "metadata": {},
   "source": [
    "# Chapter 3 introducing list"
   ]
  },
  {
   "cell_type": "code",
   "execution_count": 86,
   "metadata": {},
   "outputs": [
    {
     "name": "stdout",
     "output_type": "stream",
     "text": [
      "Azhar\n",
      "Nabeel\n",
      "Usama\n",
      "Affan\n"
     ]
    }
   ],
   "source": [
    "#excercise 3-1\n",
    "#Names\n",
    "group_members=[\"Azhar\",\"Nabeel\",\"Usama\",\"Affan\"]\n",
    "print(group_members[0])\n",
    "print(group_members[1])\n",
    "print(group_members[2])\n",
    "print(group_members[3])"
   ]
  },
  {
   "cell_type": "code",
   "execution_count": 96,
   "metadata": {},
   "outputs": [
    {
     "name": "stdout",
     "output_type": "stream",
     "text": [
      "Nabeel is our group leader\n",
      "Azhar is a git commands champion\n"
     ]
    }
   ],
   "source": [
    "#excercise 3-2\n",
    "#Greetings\n",
    "group_members=[\"Azhar\",\"Nabeel\",\"Usama\",\"Affan\"]\n",
    "message=group_members[1]+\" is our group leader\\n\"+group_members[0]+\" is a git commands champion\"\n",
    "print(message)"
   ]
  },
  {
   "cell_type": "code",
   "execution_count": null,
   "metadata": {},
   "outputs": [],
   "source": []
  }
 ],
 "metadata": {
  "kernelspec": {
   "display_name": "Python 3",
   "language": "python",
   "name": "python3"
  },
  "language_info": {
   "codemirror_mode": {
    "name": "ipython",
    "version": 3
   },
   "file_extension": ".py",
   "mimetype": "text/x-python",
   "name": "python",
   "nbconvert_exporter": "python",
   "pygments_lexer": "ipython3",
   "version": "3.8.5"
  }
 },
 "nbformat": 4,
 "nbformat_minor": 4
}
