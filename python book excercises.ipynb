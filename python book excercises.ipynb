{
 "cells": [
  {
   "cell_type": "markdown",
   "metadata": {},
   "source": [
    "# Chapter 2 variable and simple data types"
   ]
  },
  {
   "cell_type": "code",
   "execution_count": 30,
   "metadata": {},
   "outputs": [
    {
     "name": "stdout",
     "output_type": "stream",
     "text": [
      "my name is Asim and i am a student of AI & DS\n"
     ]
    }
   ],
   "source": [
    "#excercise 2-1\n",
    "introduction=\"my name is Asim and i am a student of AI & DS\"\n",
    "print(introduction)"
   ]
  },
  {
   "cell_type": "code",
   "execution_count": 31,
   "metadata": {},
   "outputs": [],
   "source": [
    "#excercise 2-2\n",
    "#change the value of a variable\n",
    "introduction=\"i am a student of AI & DS\""
   ]
  },
  {
   "cell_type": "code",
   "execution_count": 32,
   "metadata": {},
   "outputs": [
    {
     "name": "stdout",
     "output_type": "stream",
     "text": [
      "i am a student of AI & DS\n"
     ]
    }
   ],
   "source": [
    "print(introduction)"
   ]
  },
  {
   "cell_type": "code",
   "execution_count": 44,
   "metadata": {},
   "outputs": [
    {
     "name": "stdout",
     "output_type": "stream",
     "text": [
      "Hello Muhammad Asim would you like to learn some python today\n"
     ]
    }
   ],
   "source": [
    "#excercise 2-3\n",
    "#Personal message\n",
    "name=\"Muhammad Asim\"\n",
    "print(\"Hello \"+name.title()+\" would you like to learn some python today\")"
   ]
  },
  {
   "cell_type": "code",
   "execution_count": 45,
   "metadata": {},
   "outputs": [
    {
     "name": "stdout",
     "output_type": "stream",
     "text": [
      "Muhammad Asim\n",
      "MUHAMMAD ASIM\n",
      "muhammad asim\n"
     ]
    }
   ],
   "source": [
    "#excercise 2-4\n",
    "#Name cases\n",
    "name=\"Muhammad Asim\"\n",
    "print(name.title())\n",
    "print(name.upper())\n",
    "print(name.lower())"
   ]
  },
  {
   "cell_type": "code",
   "execution_count": 53,
   "metadata": {},
   "outputs": [
    {
     "name": "stdout",
     "output_type": "stream",
     "text": [
      "Alber einstein once said \"A person who never made a mistake never tried anything new.\"\n"
     ]
    }
   ],
   "source": [
    "#excercise 2-5\n",
    "print('Alber einstein once said \"A person who never made a mistake never tried anything new.\"')"
   ]
  },
  {
   "cell_type": "code",
   "execution_count": 57,
   "metadata": {},
   "outputs": [
    {
     "name": "stdout",
     "output_type": "stream",
     "text": [
      "Albert Einstein once said A person who never made a mistake never tried anything new.\n"
     ]
    }
   ],
   "source": [
    "#excercise 2-6\n",
    "famous_person=\"Albert Einstein\"\n",
    "message=\"once said A person who never made a mistake never tried anything new.\"\n",
    "print(famous_person+\" \"+message)"
   ]
  },
  {
   "cell_type": "code",
   "execution_count": 69,
   "metadata": {},
   "outputs": [
    {
     "name": "stdout",
     "output_type": "stream",
     "text": [
      "\n",
      "\tAsim \n"
     ]
    },
    {
     "data": {
      "text/plain": [
       "'Asim'"
      ]
     },
     "execution_count": 69,
     "metadata": {},
     "output_type": "execute_result"
    }
   ],
   "source": [
    "#excercise 2-7\n",
    "#striping names\n",
    "name= \"\\n\\tAsim \"\n",
    "print(name)\n",
    "#remove the whitespace from right side\n",
    "name=\"Asim \"\n",
    "name.rstrip()"
   ]
  },
  {
   "cell_type": "code",
   "execution_count": 71,
   "metadata": {},
   "outputs": [
    {
     "data": {
      "text/plain": [
       "'Asim'"
      ]
     },
     "execution_count": 71,
     "metadata": {},
     "output_type": "execute_result"
    }
   ],
   "source": [
    "#remove the whitespace from left side\n",
    "name=\" Asim\"\n",
    "name.lstrip()"
   ]
  },
  {
   "cell_type": "code",
   "execution_count": 74,
   "metadata": {},
   "outputs": [
    {
     "data": {
      "text/plain": [
       "'Asim'"
      ]
     },
     "execution_count": 74,
     "metadata": {},
     "output_type": "execute_result"
    }
   ],
   "source": [
    "#remove the whitespace from both sides\n",
    "name=\" Asim \"\n",
    "name.strip()"
   ]
  },
  {
   "cell_type": "code",
   "execution_count": 77,
   "metadata": {},
   "outputs": [
    {
     "name": "stdout",
     "output_type": "stream",
     "text": [
      "10\n",
      "10\n",
      "2.5\n",
      "10\n"
     ]
    }
   ],
   "source": [
    "#excercise 2-8\n",
    "#add,subtract,multiply and divide\n",
    "print(5+5)\n",
    "print(15-5)\n",
    "print(5/2)\n",
    "print(2*5)"
   ]
  },
  {
   "cell_type": "code",
   "execution_count": 81,
   "metadata": {},
   "outputs": [
    {
     "name": "stdout",
     "output_type": "stream",
     "text": [
      "9 is my lucky number\n"
     ]
    }
   ],
   "source": [
    "#excercise 2-9\n",
    "lucky_num=9\n",
    "print(str(lucky_num)+\" is my lucky number\")"
   ]
  },
  {
   "cell_type": "markdown",
   "metadata": {},
   "source": [
    "# Chapter 3 introducing list"
   ]
  },
  {
   "cell_type": "code",
   "execution_count": 86,
   "metadata": {},
   "outputs": [
    {
     "name": "stdout",
     "output_type": "stream",
     "text": [
      "Azhar\n",
      "Nabeel\n",
      "Usama\n",
      "Affan\n"
     ]
    }
   ],
   "source": [
    "#excercise 3-1\n",
    "#Names\n",
    "group_members=[\"Azhar\",\"Nabeel\",\"Usama\",\"Affan\"]\n",
    "print(group_members[0])\n",
    "print(group_members[1])\n",
    "print(group_members[2])\n",
    "print(group_members[3])"
   ]
  },
  {
   "cell_type": "code",
   "execution_count": 8,
   "metadata": {},
   "outputs": [
    {
     "name": "stdout",
     "output_type": "stream",
     "text": [
      "Nabeel is our group leader\n",
      "Azhar is a git commands champion\n"
     ]
    }
   ],
   "source": [
    "#excercise 3-2\n",
    "#Greetings\n",
    "group_members=[\"Azhar\",\"Nabeel\",\"Usama\",\"Affan\"]\n",
    "message=group_members[1]+\" is our group leader\\n\"+group_members[0]+\" is a git commands champion\"\n",
    "print(message)"
   ]
  },
  {
   "cell_type": "code",
   "execution_count": 10,
   "metadata": {},
   "outputs": [
    {
     "name": "stdout",
     "output_type": "stream",
     "text": [
      "Kawasaki Ninja is my favourite bike but i have 70cc\n"
     ]
    }
   ],
   "source": [
    "#excercise 3-3\n",
    "#your own list\n",
    "bikes=[\"Kawasaki Ninja\",\"70cc\",\"Honda 125\"]\n",
    "print(bikes[0]+\" is my favourite bike but i have \"+bikes[1])"
   ]
  },
  {
   "cell_type": "code",
   "execution_count": 49,
   "metadata": {},
   "outputs": [
    {
     "name": "stdout",
     "output_type": "stream",
     "text": [
      "Nabeel you're invited for dinner at my home!\n",
      "Azhar you're invited for dinner at my home!\n",
      "Affan you're invited for dinner at my home!\n",
      "\n",
      "Affan says sorry i'm not coming for dinner because i'm very sick today.\n",
      "\n",
      "i decided to invite 'Sohaib' for dinner in replacement of 'Affan'\n",
      "Hey Sohaib you're invited for dinner at my home!\n",
      "\n",
      "Nabeel you're invited for dinner at my home!\n",
      "Azhar you're invited for dinner at my home!\n",
      "Sohaib you're invited for dinner at my home!\n",
      "\n",
      "hey guys i have found a bigger dinner table and i decided to invite more guests.\n",
      "\n",
      "Nabeel you're invited for dinner at my home!\n",
      "Azhar you're invited for dinner at my home!\n",
      "Sohaib you're invited for dinner at my home!\n",
      "Usama you're invited for dinner at my home!\n",
      "Sir Nasir you're invited for dinner at my home!\n",
      "Mohsin you're invited for dinner at my home!\n"
     ]
    }
   ],
   "source": [
    "#excercise 3-4\n",
    "#Make a guest list and inviting an each person for dinner\n",
    "guests=[\"Nabeel\",\"Azhar\",\"Affan\"]\n",
    "print(guests[0]+\" you're invited for dinner at my home!\\n\"\n",
    "      +guests[1]+\" you're invited for dinner at my home!\\n\"\n",
    "      +guests[2]+\" you're invited for dinner at my home!\\n\")\n",
    "\n",
    "#excercise 3-5\n",
    "#a person who never come for dinner due to some reason\n",
    "print(guests[2]+\" says sorry i'm not coming for dinner because i'm very sick today.\\n\")\n",
    "\n",
    "#and i am inviting an other person in replacement of affan\n",
    "guests[2]=\"Sohaib\"\n",
    "print(\"i decided to invite 'Sohaib' for dinner in replacement of 'Affan'\")\n",
    "print(\"Hey \"+guests[2]+\" you're invited for dinner at my home!\\n\")\n",
    "print(guests[0]+\" you're invited for dinner at my home!\\n\"\n",
    "      +guests[1]+\" you're invited for dinner at my home!\\n\"\n",
    "      +guests[2]+\" you're invited for dinner at my home!\\n\")\n",
    "#excercise 3-6\n",
    "#i am informing guests in my list that i am inviting more guests for dinner \n",
    "print(\"hey guys i have found a bigger dinner table and i decided to invite more guests.\\n\")\n",
    "#add more three guests in my list using insert()\n",
    "guests.insert(3,\"Usama\")\n",
    "guests.insert(4,\"Sir Nasir\")\n",
    "guests.append(\"Mohsin\")\n",
    "print(guests[0]+\" you're invited for dinner at my home!\\n\"\n",
    "      +guests[1]+\" you're invited for dinner at my home!\\n\"\n",
    "      +guests[2]+\" you're invited for dinner at my home!\\n\"\n",
    "     +guests[3]+\" you're invited for dinner at my home!\\n\"\n",
    "     +guests[4]+\" you're invited for dinner at my home!\\n\"\n",
    "     +guests[5]+\" you're invited for dinner at my home!\")"
   ]
  },
  {
   "cell_type": "code",
   "execution_count": 50,
   "metadata": {},
   "outputs": [
    {
     "name": "stdout",
     "output_type": "stream",
     "text": [
      "sorry guys due to some problem i can invite only 2 peoples for dinner.\n",
      "\n",
      "Mohsin sorry bro you can't invited for dinner\n",
      "Sir Nasir sorry bro you can't invited for dinner\n",
      "Usama sorry bro you can't invited for dinner\n",
      "Sohaib sorry bro you can't invited for dinner\n",
      "\n",
      "Azhar you're still invited for dinner\n",
      "Nabeel you're still invited for dinner\n",
      "[]\n"
     ]
    }
   ],
   "source": [
    "#excercise 3-7\n",
    "#Shrinking guests list\n",
    "print(\"sorry guys due to some problem i can invite only 2 peoples for dinner.\\n\")\n",
    "print(guests.pop()+\" sorry bro you can't invited for dinner\")\n",
    "print(guests.pop()+\" sorry bro you can't invited for dinner\")\n",
    "print(guests.pop()+\" sorry bro you can't invited for dinner\")\n",
    "print(guests.pop()+\" sorry bro you can't invited for dinner\\n\")\n",
    "print(guests[1]+\" you're still invited for dinner\")\n",
    "print(guests[0]+\" you're still invited for dinner\")\n",
    "del guests[1]\n",
    "del guests[0]\n",
    "print(guests)"
   ]
  },
  {
   "cell_type": "code",
   "execution_count": 39,
   "metadata": {
    "scrolled": true
   },
   "outputs": [
    {
     "name": "stdout",
     "output_type": "stream",
     "text": [
      "['karachi', 'lahore', 'faisalabad', 'rawalpindi', 'islamabad']\n",
      "['faisalabad', 'islamabad', 'karachi', 'lahore', 'rawalpindi']\n",
      "['rawalpindi', 'lahore', 'karachi', 'islamabad', 'faisalabad']\n",
      "['faisalabad', 'islamabad', 'karachi', 'lahore', 'rawalpindi']\n"
     ]
    }
   ],
   "source": [
    "#excercise 3-8\n",
    "#seeing the world\n",
    "#Think of at least five places in the world you’d like to visit.\n",
    "places=[\"karachi\",\"lahore\",\"faisalabad\",\"rawalpindi\",\"islamabad\"]\n",
    "print(places)\n",
    "\n",
    "#using sort() to convert list in alphabetical order\n",
    "places.sort()\n",
    "print(places)\n",
    "\n",
    "#using reverse() to convert list in reverse order\n",
    "places.reverse()\n",
    "print(places)\n",
    "\n",
    "#again using the reverse() that our list convert again in alphabetical order\n",
    "places.reverse()\n",
    "print(places)"
   ]
  },
  {
   "cell_type": "code",
   "execution_count": 41,
   "metadata": {},
   "outputs": [
    {
     "name": "stdout",
     "output_type": "stream",
     "text": [
      "i has invite 5 peoples at dinner!\n"
     ]
    }
   ],
   "source": [
    "\"\"\"3-9. Dinner Guests: Working with one of the programs from Exercises 3-4\n",
    "through 3-7 (page 46), use len() to print a message indicating the number\n",
    "of people you are inviting to dinner.\"\"\"\n",
    "\n",
    "guests=[\"Nabeel\",\"Azhar\",\"Affan\",\"sohaib\",\"usama\"]\n",
    "print(f\"i has invite {len(guests)} peoples at dinner!\")"
   ]
  },
  {
   "cell_type": "markdown",
   "metadata": {},
   "source": [
    "# Chapter 4 Workinf with list"
   ]
  },
  {
   "cell_type": "code",
   "execution_count": 67,
   "metadata": {},
   "outputs": [
    {
     "name": "stdout",
     "output_type": "stream",
     "text": [
      "small pizza\n",
      "Small Pizza the taste and quality is best\n",
      "\n",
      "regular pizza\n",
      "Regular Pizza the taste and quality is best\n",
      "\n",
      "large pizza\n",
      "Large Pizza the taste and quality is best\n",
      "\n",
      "i love pizzas very much\n"
     ]
    }
   ],
   "source": [
    "#excercise 4-1\n",
    "#create a list of pizzas and use for loop to print a name of each pizza\n",
    "Pizzas=[\"small pizza\",\"regular pizza\",\"large pizza\"]\n",
    "for pizza in Pizzas:\n",
    "    print(pizza)\n",
    "\n",
    "#modify loop to print a message with them\n",
    "    print(pizza.title()+\" the taste and quality is best\\n\")\n",
    "print(\"i love pizzas very much\")"
   ]
  },
  {
   "cell_type": "code",
   "execution_count": 91,
   "metadata": {},
   "outputs": [
    {
     "name": "stdout",
     "output_type": "stream",
     "text": [
      "1\n",
      "2\n",
      "3\n",
      "4\n",
      "5\n",
      "6\n",
      "7\n",
      "8\n",
      "9\n",
      "10\n",
      "11\n",
      "12\n",
      "13\n",
      "14\n",
      "15\n",
      "16\n",
      "17\n",
      "18\n",
      "19\n",
      "20\n"
     ]
    }
   ],
   "source": [
    "#excercise 4-3\n",
    "#counting to twenty\n",
    "#: Use a for loop to print the numbers from 1 to 20, inclusive.\n",
    "for numbers in range(1,21):\n",
    "    print(numbers)"
   ]
  },
  {
   "cell_type": "code",
   "execution_count": 96,
   "metadata": {},
   "outputs": [
    {
     "name": "stdout",
     "output_type": "stream",
     "text": [
      "1\n",
      "3\n",
      "5\n",
      "7\n",
      "9\n",
      "11\n",
      "13\n",
      "15\n",
      "17\n",
      "19\n"
     ]
    }
   ],
   "source": [
    "#excercise 4-6\n",
    "#odd numbers\n",
    "for odd in range(1,20,2):\n",
    "    print(odd)"
   ]
  },
  {
   "cell_type": "code",
   "execution_count": 97,
   "metadata": {},
   "outputs": [
    {
     "name": "stdout",
     "output_type": "stream",
     "text": [
      "9\n",
      "12\n",
      "15\n",
      "18\n",
      "21\n",
      "24\n",
      "27\n",
      "30\n",
      "33\n",
      "36\n",
      "39\n",
      "42\n",
      "45\n",
      "48\n",
      "51\n",
      "54\n",
      "57\n",
      "60\n",
      "63\n",
      "66\n",
      "69\n",
      "72\n",
      "75\n",
      "78\n",
      "81\n",
      "84\n",
      "87\n"
     ]
    }
   ],
   "source": [
    "#excercise 4-7\n",
    "#Threes\n",
    "#Make a list of the multiples of 3 from 3 to 30. Use a for loop to print the numbers in your list.\n",
    "for num in range(3,30):\n",
    "    print(3*num)"
   ]
  },
  {
   "cell_type": "code",
   "execution_count": 101,
   "metadata": {},
   "outputs": [
    {
     "name": "stdout",
     "output_type": "stream",
     "text": [
      "1\n",
      "8\n",
      "27\n",
      "64\n",
      "125\n",
      "216\n",
      "343\n",
      "512\n",
      "729\n"
     ]
    }
   ],
   "source": [
    "#excercise 4-8\n",
    "#Cubes\n",
    "for num in range(1,10):\n",
    "    print(num**3)"
   ]
  },
  {
   "cell_type": "code",
   "execution_count": 103,
   "metadata": {},
   "outputs": [
    {
     "name": "stdout",
     "output_type": "stream",
     "text": [
      "[1, 8, 27, 64, 125, 216, 343, 512, 729, 1000]\n"
     ]
    }
   ],
   "source": [
    "#excercise 4-9\n",
    "#Use a list comprehension to generate a list of the first 10 cubes.\n",
    "print([num**3 for num in range(1,11)])"
   ]
  },
  {
   "cell_type": "code",
   "execution_count": 114,
   "metadata": {},
   "outputs": [
    {
     "name": "stdout",
     "output_type": "stream",
     "text": [
      "my fav foods are:\n",
      "burger\n",
      "pizza\n",
      "shawarma\n",
      "\n",
      "depending on my mood:\n",
      "fries\n",
      "falooda\n",
      "speghitti\n",
      "\n",
      "with friends i choose both type of foods:\n",
      "shawarma\n",
      "noodles\n",
      "fries\n"
     ]
    }
   ],
   "source": [
    "#excercise 4-10\n",
    "foods=[\"burger\",\"pizza\",\"shawarma\",\"noodles\",\"fries\",\"falooda\",\"speghitti\"]\n",
    "print(\"my fav foods are:\")\n",
    "for food in foods[:3]:\n",
    "    print(food)\n",
    "print(\"\\ndepending on my mood:\")\n",
    "for food in foods[4:]:\n",
    "    print(food)\n",
    "print(\"\\nwith friends i choose both type of foods:\")\n",
    "for food in foods[2:5]:\n",
    "    print(food)"
   ]
  },
  {
   "cell_type": "code",
   "execution_count": 146,
   "metadata": {},
   "outputs": [
    {
     "name": "stdout",
     "output_type": "stream",
     "text": [
      "['zinger', 'pizza', 'icecream']\n",
      "my foods:\n",
      ">>> zinger\n",
      ">>> pizza\n",
      ">>> icecream\n",
      ">>> tikka\n",
      "\n",
      "my friend foods:\n",
      ">>> zinger\n",
      ">>> pizza\n",
      ">>> icecream\n",
      ">>> jalebi\n"
     ]
    }
   ],
   "source": [
    "#excercise 4-11\n",
    "my_foods=[\"zinger\",\"pizza\",\"icecream\"]\n",
    "my_friend_foods=my_foods[:]\n",
    "print(my_foods)\n",
    "my_foods.append(\"tikka\")\n",
    "my_friend_foods.append(\"jalebi\")\n",
    "print(\"my foods:\")\n",
    "for food in my_foods:\n",
    "    print(\">>> \"+food)\n",
    "print(\"\\nmy friend foods:\")\n",
    "for food in my_friend_foods:\n",
    "    print(\">>> \"+food)"
   ]
  },
  {
   "cell_type": "code",
   "execution_count": 147,
   "metadata": {},
   "outputs": [
    {
     "name": "stdout",
     "output_type": "stream",
     "text": [
      "burger\n",
      "pizza\n",
      "fries\n",
      "boti roll\n",
      "tikka\n"
     ]
    }
   ],
   "source": [
    "#excercise 4-13\n",
    "#Buffet\n",
    "#: A buffet-style restaurant offers only five basic foods. Think of five\n",
    "#simple foods, and store them in a tuple.\n",
    "resturant_offer=(\"burger\",\"pizza\",\"fries\",\"boti roll\",\"tikka\")\n",
    "for food in resturant_offer:\n",
    "    print(food)"
   ]
  },
  {
   "cell_type": "markdown",
   "metadata": {},
   "source": [
    "# Chapter 5 If statements"
   ]
  },
  {
   "cell_type": "code",
   "execution_count": 150,
   "metadata": {},
   "outputs": [
    {
     "name": "stdout",
     "output_type": "stream",
     "text": [
      "Is car == 'subaru'? I predict True.\n",
      "True\n",
      "\n",
      "Is car == 'audi'? I predict False.\n",
      "False\n"
     ]
    }
   ],
   "source": [
    "#excercise 5-1\n",
    "#Write a series of conditional tests. Print a statement\n",
    "#describing each test and your prediction for the results of each test. Your code\n",
    "#should look something like this:\n",
    "car = 'subaru'\n",
    "print(\"Is car == 'subaru'? I predict True.\")\n",
    "print(car == 'subaru')\n",
    "print(\"\\nIs car == 'audi'? I predict False.\")\n",
    "print(car == 'audi')"
   ]
  },
  {
   "cell_type": "code",
   "execution_count": 168,
   "metadata": {},
   "outputs": [
    {
     "name": "stdout",
     "output_type": "stream",
     "text": [
      "wow you got a 5 points\n",
      "\n"
     ]
    }
   ],
   "source": [
    "#excercise 5-3\n",
    "#Alien colors-1\n",
    "Alien_color=[\"red\",\"yellow\",\"green\"]\n",
    "if \"green\" in Alien_color:\n",
    "    print(\"wow you got a 5 points\")\n",
    "else:\n",
    "    print(\"you got a 0 point\")\n",
    "if \"pink\" in Alien_color:\n",
    "    print(\"wow you got a 50 points\")\n",
    "else:\n",
    "    print(\"\")"
   ]
  },
  {
   "cell_type": "code",
   "execution_count": 176,
   "metadata": {},
   "outputs": [
    {
     "name": "stdout",
     "output_type": "stream",
     "text": [
      "player got 5 points to shot down a green Alien\n",
      "wow player got a 10 points\n"
     ]
    }
   ],
   "source": [
    "#excercise 5-4\n",
    "#Alien color-2\n",
    "#Choose a color for an alien as you did in Exercise 5-3, and\n",
    "#write an if-else chain.\n",
    "Alien_color=[\"red\",\"yellow\",\"green\"]\n",
    "if \"green\" in Alien_color:\n",
    "    print(\"player got 5 points to shot down a green Alien\")\n",
    "if \"yellow\" in Alien_color:\n",
    "    print(\"wow player got a 10 points\")\n",
    "else:\n",
    "    print(\"wow player got 15 points\")"
   ]
  },
  {
   "cell_type": "code",
   "execution_count": 2,
   "metadata": {},
   "outputs": [
    {
     "name": "stdout",
     "output_type": "stream",
     "text": [
      "wow you got a 15 points\n"
     ]
    }
   ],
   "source": [
    "#excercise 5-5\n",
    "#Alien color-3\n",
    "#Turn your if-else chain from Exercise 5-4 into an if-elifelse chain\n",
    "Alien_color=\"yellow\"\n",
    "if Alien_color==\"green\":\n",
    "    print(\"you got a 5 points\")\n",
    "elif Alien_color==\"red\":\n",
    "    print(\"wow you gort a 10 points\")\n",
    "elif Alien_color==\"yellow\":\n",
    "    print(\"wow you got a 15 points\")\n",
    "else:\n",
    "    print(\"you got a 0 points\")"
   ]
  },
  {
   "cell_type": "code",
   "execution_count": 10,
   "metadata": {},
   "outputs": [
    {
     "name": "stdout",
     "output_type": "stream",
     "text": [
      "the person is a teenager\n"
     ]
    }
   ],
   "source": [
    "#excercise 5-6\n",
    "#Stages of life\n",
    "#Write an if-elif-else chain that determines a person’s\n",
    "#stage of life. Set a value for the variable age, and then:\n",
    "age=20\n",
    "if age<2:\n",
    "    print(\"the person is a child\")\n",
    "elif age>=2 and age<=4:\n",
    "    print(\"the person is a toddler\")\n",
    "elif age>=4 and age<=10:\n",
    "    print(\"the person is a kid\")\n",
    "elif age>=10 and age<=20:\n",
    "    print(\"the person is a teenager\")\n",
    "elif age>=20 and age<=50:\n",
    "    print(\"the person is an adult\")\n",
    "else:\n",
    "    print(\"the person is an elder\")"
   ]
  },
  {
   "cell_type": "code",
   "execution_count": 43,
   "metadata": {},
   "outputs": [
    {
     "name": "stdout",
     "output_type": "stream",
     "text": [
      "yes Asim is really like mango\n",
      "yes Asim really like apple\n",
      "yes Asim really like banana\n",
      "no Asim doesn't like this friut\n"
     ]
    }
   ],
   "source": [
    "#excercise 5-7\n",
    "#favourite friuts\n",
    "#Make a list of your favorite fruits, and then write a series of\n",
    "#independent if statements that check for certain fruits in your list.\n",
    "fav_friuts=[\"banana\",\"mango\",\"apple\",\"appricort\"]\n",
    "if \"mango\" in fav_friuts:\n",
    "    print(\"yes Asim is really like mango\")\n",
    "if \"apple\" in fav_friuts:\n",
    "    print(\"yes Asim really like apple\")\n",
    "if \"banana\" in fav_friuts:\n",
    "    print(\"yes Asim really like banana\")\n",
    "if \"appricort\" in fav_friuts:\n",
    "    print(\"no Asim doesn't like this friut\")"
   ]
  },
  {
   "cell_type": "code",
   "execution_count": 48,
   "metadata": {},
   "outputs": [
    {
     "name": "stdout",
     "output_type": "stream",
     "text": [
      "Hello admin would you like to see a status report\n",
      "Hello Affan thank you for logging in\n",
      "Hello admin would you like to see a status report\n",
      "Hello Usama thank you for logging in\n",
      "Hello Azhar thank you for logging in\n"
     ]
    }
   ],
   "source": [
    "#excercise 5-8\n",
    "#Hello admin\n",
    "#Make a list of five or more usernames, including the name\n",
    "#'admin'. Imagine you are writing code that will print a greeting to each user\n",
    "#after they log in to a website. Loop through the list, and print a greeting to\n",
    "#each user:\n",
    "#•\t If the username is 'admin', print a special greeting, such as Hello admin,\n",
    "#would you like to see a status report?\n",
    "#•\t Otherwise, print a generic greeting, such as Hello Eric, thank you for logging in again.\n",
    "\n",
    "users=[\"Admin\",\"Affan\",\"Admin\",\"Usama\",\"Azhar\"]\n",
    "for user in users:\n",
    "    if user==\"Admin\":\n",
    "        print(\"Hello admin would you like to see a status report\")\n",
    "    else:\n",
    "        print(\"Hello \"+user+\" thank you for logging in\")"
   ]
  },
  {
   "cell_type": "code",
   "execution_count": 68,
   "metadata": {},
   "outputs": [
    {
     "name": "stdout",
     "output_type": "stream",
     "text": [
      "We need to find some users!\n"
     ]
    }
   ],
   "source": [
    "#excercise 5-9\n",
    "#no users\n",
    "users=[]\n",
    "for user in users:\n",
    "    if user==\"admin\":\n",
    "        print(\"Hello admin would you like to see a status report\")\n",
    "    else:\n",
    "        print(\"Hello user thank you for logging in\")\n",
    "else:\n",
    "    print(\"We need to find some users!\")"
   ]
  },
  {
   "cell_type": "code",
   "execution_count": 75,
   "metadata": {},
   "outputs": [
    {
     "name": "stdout",
     "output_type": "stream",
     "text": [
      "mohsin is a new user\n",
      "huzaifa is a new user\n",
      "faizan is a new user\n",
      "yes new user asim is alredy in current usesr\n",
      "yes new user sohaib is alredy in current usesr\n"
     ]
    }
   ],
   "source": [
    "#excercise 5-10\n",
    "#checking user names\n",
    "#Do the following to create a program that simulates\n",
    "#how websites ensure that everyone has a unique username.\n",
    "#•\t Make a list of five or more usernames called current_users.\n",
    "#•\t Make another list of five usernames called new_users. Make sure one or\n",
    "#two of the new usernames are also in the current_users list.\n",
    "#•\t Loop through the new_users list to see if each new username has already\n",
    "#been used. If it has, print a message that the person will need to enter a\n",
    "#new username. If a username has not been used, print a message saying\n",
    "#that the username is available.\n",
    "#•\t Make sure your comparison is case insensitive. If 'John' has been used,\n",
    "#'JOHN' should not be accepted\n",
    "current_users=[\"asim\",\"nabeel\",\"azhar\",\"sohaib\",\"affan\"]\n",
    "new_users=[\"mohsin\",\"huzaifa\",\"faizan\",\"asim\",\"sohaib\"]\n",
    "for new_user in new_users:\n",
    "    if new_user in current_users:\n",
    "        print(f\"yes new user {new_user} is alredy in current usesr\")\n",
    "    else:\n",
    "        print(f\"{new_user} is a new user\")"
   ]
  },
  {
   "cell_type": "code",
   "execution_count": 79,
   "metadata": {},
   "outputs": [
    {
     "name": "stdout",
     "output_type": "stream",
     "text": [
      "1st\n",
      "2nd\n",
      "3rd\n",
      "4th\n",
      "5th\n",
      "6th\n",
      "7th\n",
      "8th\n",
      "9th\n"
     ]
    }
   ],
   "source": [
    "#excercise 5-11\n",
    "#ordinal numbers\n",
    "#Ordinal numbers indicate their position in a list, such\n",
    "#as 1st or 2nd. Most ordinal numbers end in th, except 1, 2, and 3.\n",
    "#•\t Store the numbers 1 through 9 in a list.\n",
    "#•\t Loop through the list.\n",
    "#•\t Use an if-elif-else chain inside the loop to print the proper ordinal ending for each number. \n",
    "#Your output should read \"1st 2nd 3rd 4th 5th 6th\n",
    "#7th 8th 9th\", and each result should be on a separate line.\n",
    "\n",
    "numbers=[x for x in range(1,10)]\n",
    "for number in numbers:\n",
    "    if number==1:\n",
    "        print(str(number)+\"st\")\n",
    "    elif number==2:\n",
    "        print(str(number)+\"nd\")\n",
    "    elif number==3:\n",
    "        print(str(number)+\"rd\")\n",
    "    else:\n",
    "        print(str(number)+\"th\")"
   ]
  },
  {
   "cell_type": "markdown",
   "metadata": {},
   "source": [
    "# Chapter 6 Dictionaries"
   ]
  },
  {
   "cell_type": "code",
   "execution_count": 17,
   "metadata": {},
   "outputs": [
    {
     "name": "stdout",
     "output_type": "stream",
     "text": [
      "hey my name is Muhammad Asim my age is 23 and i am living in Karachi\n"
     ]
    }
   ],
   "source": [
    "#excercise 6-1\n",
    "#person\n",
    "#Use a dictionary to store information about a person you know.\n",
    "#Store their first name, last name, age, and the city in which they live. You\n",
    "#should have keys such as first_name, last_name, age, and city. Print each\n",
    "#piece of information stored in your dictionary.\n",
    "person={\"firstname\":\"Muhammad\",\"lastname\":\"Asim\",\"age\":\"23\",\"city\":\"Karachi\"}\n",
    "full_name=person[\"firstname\"]+\" \"+person[\"lastname\"]\n",
    "print(f\"hey my name is {full_name} my age is {person['age']} and i am living in {person['city']}\" )"
   ]
  },
  {
   "cell_type": "code",
   "execution_count": 21,
   "metadata": {},
   "outputs": [
    {
     "name": "stdout",
     "output_type": "stream",
     "text": [
      "my name is asim and my lucky numbers is 9\n",
      "my name is nabeel and my lucky numbers is 2\n",
      "my name is azhar and my lucky numbers is 4\n",
      "my name is sohaib and my lucky numbers is 6\n",
      "my name is affan and my lucky numbers is 8\n"
     ]
    }
   ],
   "source": [
    "#excercise 6-2\n",
    "#favourite numbers\n",
    "#Use a dictionary to store people’s favorite numbers.\n",
    "#Think of five names, and use them as keys in your dictionary. Think of a favorite\n",
    "#number for each person, and store each as a value in your dictionary. Print\n",
    "#each person’s name and their favorite number. For even more fun, poll a few\n",
    "#friends and get some actual data for your program.\n",
    "\n",
    "name_numbers={\"asim\":9,\"nabeel\":2,\"azhar\":4,\"sohaib\":6,\"affan\":8}\n",
    "for key,value in name_numbers.items():\n",
    "    print(f\"my name is {key} and my lucky numbers is {value}\")"
   ]
  },
  {
   "cell_type": "code",
   "execution_count": 29,
   "metadata": {},
   "outputs": [
    {
     "name": "stdout",
     "output_type": "stream",
     "text": [
      "lstrip:\n",
      "removing the white space from left side\n",
      "\n",
      "rstrip:\n",
      "removing the white space from right side\n",
      "\n",
      "strip:\n",
      "removing the white space from both sides\n",
      "\n"
     ]
    }
   ],
   "source": [
    "#excercise 6-3\n",
    "#glosssary\n",
    "#A Python dictionary can be used to model an actual dictionary.\n",
    "#However, to avoid confusion, let’s call it a glossary.\n",
    "#•\t Think of five programming words you’ve learned about in the previous\n",
    "#chapters. Use these words as the keys in your glossary, and store their\n",
    "#meanings as values.\n",
    "#•\t Print each word and its meaning as neatly formatted output. You might\n",
    "#print the word followed by a colon and then its meaning, or print the word\n",
    "#on one line and then print its meaning indented on a second line. Use the\n",
    "#newline character (\\n) to insert a blank line between each word-meaning\n",
    "#pair in your output.\n",
    "programming_methods={\"lstrip\":\"removing the white space from left side\",\n",
    "                     \"rstrip\":\"removing the white space from right side\",\n",
    "                     \"strip\":\"removing the white space from both sides\"}\n",
    "for key,value in programming_methods.items():\n",
    "    print(key+\":\\n\"+value+\"\\n\")"
   ]
  },
  {
   "cell_type": "code",
   "execution_count": 36,
   "metadata": {},
   "outputs": [
    {
     "name": "stdout",
     "output_type": "stream",
     "text": [
      "river sindh run through sindh pakistan\n",
      "river chanab run through punjab pakistan\n",
      "river ravi run through punjab pakistan\n",
      "river name river sindh\n",
      "river name river chanab\n",
      "river name river ravi\n",
      "city name sindh pakistan\n",
      "city name punjab pakistan\n",
      "city name punjab pakistan\n"
     ]
    }
   ],
   "source": [
    "#excercise 6-5\n",
    "#rivers\n",
    "# Make a dictionary containing three major rivers and the country\n",
    "#each river runs through. One key-value pair might be 'nile': 'egypt'.\n",
    "#•\t Use a loop to print a sentence about each river, such as The Nile runs\n",
    "#through Egypt.\n",
    "#•\t Use a loop to print the name of each river included in the dictionary.\n",
    "#•\t Use a loop to print the name of each country included in the dictionary\n",
    "rivers={\"river sindh\":\"sindh pakistan\",\"river chanab\":\"punjab pakistan\",\"river ravi\":\"punjab pakistan\"}\n",
    "for river,city in rivers.items():\n",
    "    print(river+\" run through \"+city)\n",
    "for river in rivers.keys():\n",
    "    print(\"river name \"+ river)\n",
    "for city in rivers.values():\n",
    "    print(\"city name \"+city)"
   ]
  },
  {
   "cell_type": "code",
   "execution_count": 53,
   "metadata": {},
   "outputs": [
    {
     "name": "stdout",
     "output_type": "stream",
     "text": [
      "asim thank's for your response\n",
      "\n",
      "nabeel thank's for your response\n",
      "\n",
      "affan thank's for your response\n",
      "\n",
      "azhar thank's for your response\n",
      "\n",
      "hey azhar please come and join the poll\n"
     ]
    }
   ],
   "source": [
    "#excercise 6-6\n",
    "#polling\n",
    "#Make a list of people who should take the favorite languages poll. Include\n",
    "#some names that are already in the dictionary and some that are not.\n",
    "#•\t Loop through the list of people who should take the poll. If they have\n",
    "#already taken the poll, print a message thanking them for responding.\n",
    "#If they have not yet taken the poll, print a message inviting them to take\n",
    "#the poll.\n",
    "languages_poll={\"asim\":\"python\",\"nabeel\":\"java\",\"affan\":\".net\",\"azhar\":\"c++\"}\n",
    "for name in languages_poll.keys():\n",
    "    print(name+\" thank's for your response\\n\")\n",
    "if languages_poll!=\"name\":\n",
    "    print(\"hey \"+name+\" please come and join the poll\")"
   ]
  },
  {
   "cell_type": "code",
   "execution_count": 89,
   "metadata": {},
   "outputs": [
    {
     "name": "stdout",
     "output_type": "stream",
     "text": [
      "user_name: masim\n",
      "\t>>full name: Muhammad Asim\n",
      "\t>>location: Karachi Pakistan\n",
      "user_name: mmohsin\n",
      "\t>>full name: Muhammad Mohsin\n",
      "\t>>location: Karachi Pakistan\n"
     ]
    }
   ],
   "source": [
    "#excercise 6-7\n",
    "#people\n",
    "#Start with the program you wrote for Exercise 6-1 (page 102).\n",
    "#Make two new dictionaries representing different people, and store all three\n",
    "#dictionaries in a list called people. Loop through your list of people. As you\n",
    "#loop through the list, print everything you know about each person\n",
    "\n",
    "group_members={  \"masim\":{\"first\":\"muhammad\",\"last\":\"asim\",\"location\":\"karachi pakistan\",},\n",
    "              \"mmohsin\":{\"first\":\"muhammad\",\"last\":\"mohsin\",\"location\":\"karachi pakistan\"},  }\n",
    "for member_name,group in group_members.items():\n",
    "    print(\"user_name: \"+member_name)\n",
    "    full_name=group['first']+\" \"+group['last']\n",
    "    location=group['location']\n",
    "    print(\"\\t>>full name: \"+  full_name.title())\n",
    "    print(\"\\t>>location: \"+ location.title())"
   ]
  },
  {
   "cell_type": "code",
   "execution_count": 99,
   "metadata": {},
   "outputs": [
    {
     "name": "stdout",
     "output_type": "stream",
     "text": [
      "this bull dog own by asim \n",
      "this german shepherd own by nabeel \n",
      "this puppy own by azhar \n"
     ]
    }
   ],
   "source": [
    "#excercise 6-8\n",
    "#pets\n",
    "#Make several dictionaries, where the name of each dictionary is the\n",
    "#name of a pet. In each dictionary, include the kind of animal and the owner’s\n",
    "#name. Store these dictionaries in a list called pets. Next, loop through your list\n",
    "#and as you do print everything you know about each pet.\n",
    "\n",
    "pet1={\"name\":\"bull dog\",\"owner\":\"own by asim\"}\n",
    "pet2={\"name\":\"german shepherd\",\"owner\":\"own by nabeel\"}\n",
    "pet3={\"name\":\"puppy\",\"owner\":\"own by azhar\"}\n",
    "pets=[pet1,pet2,pet3]\n",
    "for pet in pets:\n",
    "    print(\"this {0} {1} \".format(pet['name'],pet['owner']))"
   ]
  },
  {
   "cell_type": "code",
   "execution_count": 111,
   "metadata": {},
   "outputs": [
    {
     "name": "stdout",
     "output_type": "stream",
     "text": [
      "\n",
      "person name: Asim\n",
      "favourite place is do darya\n",
      "favourite place is sunway\n",
      "\n",
      "person name: mohsin\n",
      "favourite place is do darya\n",
      "favourite place is dolmen mall\n",
      "\n",
      "person name: faizan\n",
      "favourite place is highway\n",
      "favourite place is racing track\n"
     ]
    }
   ],
   "source": [
    "#excercise 6-9\n",
    "#favourite places\n",
    "#Make a dictionary called favorite_places. Think of three\n",
    "#names to use as keys in the dictionary, and store one to three favorite places\n",
    "#for each person. To make this exercise a bit more interesting, ask some friends\n",
    "#to name a few of their favorite places. Loop through the dictionary, and print\n",
    "#each person’s name and their favorite places\n",
    "\n",
    "fav_places={\"Asim\":[\"do darya\",\"sunway\"],\n",
    "            \"mohsin\":[\"do darya\",\"dolmen mall\"],\n",
    "            \"faizan\":[\"highway\",\"racing track\"]}\n",
    "for name,places in fav_places.items():\n",
    "    print(\"\\nperson name: \"+name)\n",
    "    for place in places:\n",
    "        print(\"favourite place is \"+place)"
   ]
  },
  {
   "cell_type": "code",
   "execution_count": 115,
   "metadata": {},
   "outputs": [
    {
     "name": "stdout",
     "output_type": "stream",
     "text": [
      "person name: asim\n",
      " favourite numbers is [2, 9, 7]\n",
      "person name: mohsin\n",
      " favourite numbers is [3, 11, 8]\n",
      "person name: faizan\n",
      " favourite numbers is [4, 6, 1]\n"
     ]
    }
   ],
   "source": [
    "#excercise 6-10\n",
    "#favourite numbers\n",
    "#Modify your program from Exercise 6-2 (page 102) so\n",
    "#each person can have more than one favorite number. Then print each person’s\n",
    "#name along with their favorite numbers\n",
    "\n",
    "fav_numbers={\"asim\":[2,9,7],\"mohsin\":[3,11,8],\"faizan\":[4,6,1]}\n",
    "for name,numbers in fav_numbers.items():\n",
    "    print(\"person name: \"+ name+ \"\\n favourite numbers is \"+ str(numbers))"
   ]
  },
  {
   "cell_type": "code",
   "execution_count": 126,
   "metadata": {},
   "outputs": [
    {
     "name": "stdout",
     "output_type": "stream",
     "text": [
      "\n",
      "city name: karachi\n",
      "population 3crors\n",
      "famous place seaview\n",
      "\n",
      "city name: lahore\n",
      "population 50lakhs\n",
      "famous place badshahi mosque\n",
      "\n",
      "city name: islamabad\n",
      "population 60lakhs\n",
      "famous place faisal mosque\n"
     ]
    }
   ],
   "source": [
    "#excercise 6-11\n",
    "#cities\n",
    "#Make a dictionary called cities. Use the names of three cities as\n",
    "#keys in your dictionary. Create a dictionary of information about each city and\n",
    "#include the country that the city is in, its approximate population, and one fact\n",
    "#about that city. The keys for each city’s dictionary should be something like\n",
    "#country, population, and fact. Print the name of each city and all of the information you have stored about it.\n",
    "\n",
    "cities={\"karachi\":{\"population\":\"3crors\",\"famous place\":\"seaview\"},\n",
    "       \"lahore\":{\"population\":\"50lakhs\",\"famous place\":\"badshahi mosque\"},\n",
    "       \"islamabad\":{\"population\":\"60lakhs\",\"famous place\":\"faisal mosque\"}}\n",
    "for city,information in cities.items():\n",
    "    print(\"\\ncity name: \"+city )\n",
    "    for population,place in information.items():\n",
    "        print(population+\" \"+place)"
   ]
  },
  {
   "cell_type": "markdown",
   "metadata": {},
   "source": [
    "# Chapter 7 User input and while loops"
   ]
  },
  {
   "cell_type": "code",
   "execution_count": 133,
   "metadata": {},
   "outputs": [
    {
     "name": "stdout",
     "output_type": "stream",
     "text": [
      "choose a car lamborghini\n",
      "let me see if can found for you a lamborghini or not!\n"
     ]
    }
   ],
   "source": [
    "#excercise 7-1\n",
    "#Rental car\n",
    "#Write a program that asks the user what kind of rental car they\n",
    "#would like. Print a message about that car, such as “Let me see if I can find you\n",
    "#a Subaru.”\n",
    "\n",
    "rental_car=input(\"choose a car \")\n",
    "print(\"let me see if can found for you a \"+rental_car+\" or not!\")"
   ]
  },
  {
   "cell_type": "code",
   "execution_count": 144,
   "metadata": {},
   "outputs": [
    {
     "name": "stdout",
     "output_type": "stream",
     "text": [
      "how many people in their dinner group sir?? 8\n",
      "the table is ready sir\n"
     ]
    }
   ],
   "source": [
    "#excercise 7-2\n",
    "#resturant seating\n",
    "#Write a program that asks the user how many people\n",
    "#are in their dinner group. If the answer is more than eight, \n",
    "#print a message saying they’ll have to wait for a table. \n",
    "#Otherwise, report that their table is ready.\n",
    "\n",
    "resturant_seating=int(input(\"how many people in their dinner group sir?? \"))\n",
    "if resturant_seating >8:\n",
    "    print(\"they'll have to wait for a table\")\n",
    "else:\n",
    "    print(\"the table is ready sir\")"
   ]
  },
  {
   "cell_type": "code",
   "execution_count": 152,
   "metadata": {},
   "outputs": [
    {
     "name": "stdout",
     "output_type": "stream",
     "text": [
      "enter a number 100\n",
      "the number is multiple of ten\n"
     ]
    }
   ],
   "source": [
    "#excercise 7-3\n",
    "#multiples of ten\n",
    "#Ask the user for a number, and then report whether the\n",
    "#number is a multiple of 10 or not.\n",
    "\n",
    "number=int(input(\"enter a number \"))\n",
    "if number%10==0:\n",
    "    print(\"the number is multiple of ten\")\n",
    "else:\n",
    "    print(\"the number is not multiple of ten\")"
   ]
  },
  {
   "cell_type": "code",
   "execution_count": 189,
   "metadata": {},
   "outputs": [
    {
     "name": "stdout",
     "output_type": "stream",
     "text": [
      "enter pizza toppings details or quit for exit mashrooms\n",
      "enter pizza toppings details or quit for exit olive\n",
      "enter pizza toppings details or quit for exit onion\n",
      "enter pizza toppings details or quit for exit dhaniya\n",
      "enter pizza toppings details or quit for exit quit\n",
      "you'll add mashrooms in yout pizza\n",
      "you'll add olive in yout pizza\n",
      "you'll add onion in yout pizza\n",
      "you'll add dhaniya in yout pizza\n"
     ]
    }
   ],
   "source": [
    "#excercise 7-4\n",
    "#pizza toppings\n",
    "#Write a loop that prompts the user to enter a series of\n",
    "#pizza toppings until they enter a 'quit' value. As they enter each topping,\n",
    "#print a message saying you’ll add that topping to their pizza.\n",
    "\n",
    "condition=True\n",
    "toppings=[]\n",
    "while condition:\n",
    "    user_input=(input(\"enter pizza toppings details or quit for exit \"))\n",
    "    if user_input==\"quit\":\n",
    "        condition=False\n",
    "    else:\n",
    "        toppings.append(user_input)\n",
    "for topping in toppings:\n",
    "    print(f\"you'll add {topping} in yout pizza\")"
   ]
  },
  {
   "cell_type": "code",
   "execution_count": 200,
   "metadata": {},
   "outputs": [
    {
     "name": "stdout",
     "output_type": "stream",
     "text": [
      "enter your age 5\n",
      "your ticket charges is 5$\n",
      "enter your age 5\n",
      "your ticket charges is 5$\n",
      "enter your age 5\n",
      "your ticket charges is 5$\n",
      "enter your age 5\n",
      "your ticket charges is 5$\n",
      "enter your age 5\n",
      "your ticket charges is 5$\n",
      "enter your age 5\n",
      "your ticket charges is 5$\n",
      "enter your age 5\n",
      "your ticket charges is 5$\n",
      "enter your age 5\n",
      "your ticket charges is 5$\n",
      "enter your age 5\n",
      "your ticket charges is 5$\n",
      "enter your age 5\n",
      "your ticket charges is 5$\n"
     ]
    },
    {
     "ename": "KeyboardInterrupt",
     "evalue": "Interrupted by user",
     "output_type": "error",
     "traceback": [
      "\u001b[1;31m---------------------------------------------------------------------------\u001b[0m",
      "\u001b[1;31mKeyboardInterrupt\u001b[0m                         Traceback (most recent call last)",
      "\u001b[1;32m<ipython-input-200-0de8bc2a7299>\u001b[0m in \u001b[0;36m<module>\u001b[1;34m\u001b[0m\n\u001b[0;32m      9\u001b[0m \u001b[0mcondition\u001b[0m\u001b[1;33m=\u001b[0m\u001b[1;32mTrue\u001b[0m\u001b[1;33m\u001b[0m\u001b[1;33m\u001b[0m\u001b[0m\n\u001b[0;32m     10\u001b[0m \u001b[1;32mwhile\u001b[0m \u001b[0mcondition\u001b[0m\u001b[1;33m:\u001b[0m\u001b[1;33m\u001b[0m\u001b[1;33m\u001b[0m\u001b[0m\n\u001b[1;32m---> 11\u001b[1;33m     \u001b[0mage\u001b[0m\u001b[1;33m=\u001b[0m\u001b[0mint\u001b[0m\u001b[1;33m(\u001b[0m\u001b[0minput\u001b[0m\u001b[1;33m(\u001b[0m\u001b[1;34m\"enter your age \"\u001b[0m\u001b[1;33m)\u001b[0m\u001b[1;33m)\u001b[0m\u001b[1;33m\u001b[0m\u001b[1;33m\u001b[0m\u001b[0m\n\u001b[0m\u001b[0;32m     12\u001b[0m     \u001b[1;32mif\u001b[0m \u001b[0mage\u001b[0m\u001b[1;33m<=\u001b[0m\u001b[1;36m3\u001b[0m\u001b[1;33m:\u001b[0m\u001b[1;33m\u001b[0m\u001b[1;33m\u001b[0m\u001b[0m\n\u001b[0;32m     13\u001b[0m         \u001b[0mprint\u001b[0m\u001b[1;33m(\u001b[0m\u001b[1;34m\"your ticket is free\"\u001b[0m\u001b[1;33m)\u001b[0m\u001b[1;33m\u001b[0m\u001b[1;33m\u001b[0m\u001b[0m\n",
      "\u001b[1;32m~\\anaconda3\\lib\\site-packages\\ipykernel\\kernelbase.py\u001b[0m in \u001b[0;36mraw_input\u001b[1;34m(self, prompt)\u001b[0m\n\u001b[0;32m    858\u001b[0m                 \u001b[1;34m\"raw_input was called, but this frontend does not support input requests.\"\u001b[0m\u001b[1;33m\u001b[0m\u001b[1;33m\u001b[0m\u001b[0m\n\u001b[0;32m    859\u001b[0m             )\n\u001b[1;32m--> 860\u001b[1;33m         return self._input_request(str(prompt),\n\u001b[0m\u001b[0;32m    861\u001b[0m             \u001b[0mself\u001b[0m\u001b[1;33m.\u001b[0m\u001b[0m_parent_ident\u001b[0m\u001b[1;33m,\u001b[0m\u001b[1;33m\u001b[0m\u001b[1;33m\u001b[0m\u001b[0m\n\u001b[0;32m    862\u001b[0m             \u001b[0mself\u001b[0m\u001b[1;33m.\u001b[0m\u001b[0m_parent_header\u001b[0m\u001b[1;33m,\u001b[0m\u001b[1;33m\u001b[0m\u001b[1;33m\u001b[0m\u001b[0m\n",
      "\u001b[1;32m~\\anaconda3\\lib\\site-packages\\ipykernel\\kernelbase.py\u001b[0m in \u001b[0;36m_input_request\u001b[1;34m(self, prompt, ident, parent, password)\u001b[0m\n\u001b[0;32m    902\u001b[0m             \u001b[1;32mexcept\u001b[0m \u001b[0mKeyboardInterrupt\u001b[0m\u001b[1;33m:\u001b[0m\u001b[1;33m\u001b[0m\u001b[1;33m\u001b[0m\u001b[0m\n\u001b[0;32m    903\u001b[0m                 \u001b[1;31m# re-raise KeyboardInterrupt, to truncate traceback\u001b[0m\u001b[1;33m\u001b[0m\u001b[1;33m\u001b[0m\u001b[1;33m\u001b[0m\u001b[0m\n\u001b[1;32m--> 904\u001b[1;33m                 \u001b[1;32mraise\u001b[0m \u001b[0mKeyboardInterrupt\u001b[0m\u001b[1;33m(\u001b[0m\u001b[1;34m\"Interrupted by user\"\u001b[0m\u001b[1;33m)\u001b[0m \u001b[1;32mfrom\u001b[0m \u001b[1;32mNone\u001b[0m\u001b[1;33m\u001b[0m\u001b[1;33m\u001b[0m\u001b[0m\n\u001b[0m\u001b[0;32m    905\u001b[0m             \u001b[1;32mexcept\u001b[0m \u001b[0mException\u001b[0m \u001b[1;32mas\u001b[0m \u001b[0me\u001b[0m\u001b[1;33m:\u001b[0m\u001b[1;33m\u001b[0m\u001b[1;33m\u001b[0m\u001b[0m\n\u001b[0;32m    906\u001b[0m                 \u001b[0mself\u001b[0m\u001b[1;33m.\u001b[0m\u001b[0mlog\u001b[0m\u001b[1;33m.\u001b[0m\u001b[0mwarning\u001b[0m\u001b[1;33m(\u001b[0m\u001b[1;34m\"Invalid Message:\"\u001b[0m\u001b[1;33m,\u001b[0m \u001b[0mexc_info\u001b[0m\u001b[1;33m=\u001b[0m\u001b[1;32mTrue\u001b[0m\u001b[1;33m)\u001b[0m\u001b[1;33m\u001b[0m\u001b[1;33m\u001b[0m\u001b[0m\n",
      "\u001b[1;31mKeyboardInterrupt\u001b[0m: Interrupted by user"
     ]
    }
   ],
   "source": [
    "#excercise 7-5\n",
    "#movie ticket\n",
    "#A movie theater charges different ticket prices depending on\n",
    "#a person’s age. If a person is under the age of 3, the ticket is free; if they are\n",
    "#between 3 and 12, the ticket is $10; and if they are over age 12, the ticket is\n",
    "#15. Write a loop in which you ask users their age, and then tell them the cost\n",
    "#of their movie ticket.\n",
    "\n",
    "condition=True\n",
    "while condition:\n",
    "    age=int(input(\"enter your age \"))\n",
    "    if age<=3:\n",
    "        print(\"your ticket is free\")\n",
    "    elif age >3 and age<=12:\n",
    "        print(\"your ticket charges is 5$\")\n",
    "    else:\n",
    "        print(\"your ticket charges id 15$\")"
   ]
  },
  {
   "cell_type": "code",
   "execution_count": 203,
   "metadata": {},
   "outputs": [
    {
     "name": "stdout",
     "output_type": "stream",
     "text": [
      "Enter your age to get the ticket price15\n",
      "Your ticket price is $15\n",
      "Enter your age to get the ticket price20\n",
      "Your ticket price is $15\n",
      "Enter your age to get the ticket price3\n",
      "Your ticket is free\n"
     ]
    }
   ],
   "source": [
    "#excercise 7-6\n",
    "#three exists\n",
    "#Write different versions of either Exercise 7-4 or Exercise 7-5\n",
    "#that do each of the following at least once:\n",
    "#•\t Use a conditional test in the while statement to stop the loop.\n",
    "#•\t Use an active variable to control how long the loop runs.\n",
    "#•\t Use a break statement to exit the loop when the user enters a 'quit' value.\n",
    "\n",
    "condition=3\n",
    "while condition:\n",
    "    age=int(input(\"Enter your age to get the ticket price\"))\n",
    "    if age ==-1:\n",
    "        break\n",
    "    condition=condition-1\n",
    "    if age==0:\n",
    "        condition=0\n",
    "\n",
    "\n",
    "    if age<=3:\n",
    "        print(\"Your ticket is free\")\n",
    "    elif age>3 and age<=12:\n",
    "        print(\"Your ticket is $10\")\n",
    "    else:\n",
    "        print(\"Your ticket price is $15\")"
   ]
  },
  {
   "cell_type": "code",
   "execution_count": null,
   "metadata": {},
   "outputs": [],
   "source": [
    "#excercise 7-7\n",
    "#infinity\n",
    "#Write a loop that never ends, and run it. (To end the loop, press\n",
    "#ctrl-C or close the window displaying the output.\n",
    "\n",
    "value=0\n",
    "while True:\n",
    "    print(value)\n",
    "    value+=1"
   ]
  },
  {
   "cell_type": "code",
   "execution_count": 218,
   "metadata": {},
   "outputs": [
    {
     "name": "stdout",
     "output_type": "stream",
     "text": [
      "i made your chicken sandwitch\n",
      "i made your mix vagi sandwitch\n",
      "i made your beef sandwitch\n",
      "i made your italian sandwitch\n",
      "['chicken sandwitch', 'mix vagi sandwitch', 'beef sandwitch', 'italian sandwitch'] all are made for you\n"
     ]
    }
   ],
   "source": [
    "#excercise 7-8\n",
    "#Deli\n",
    "#Make a list called sandwich_orders and fill it with the names of various sandwiches. \n",
    "#Then make an empty list called finished_sandwiches. Loop\n",
    "#through the list of sandwich orders and print a message for each order, such\n",
    "#as I made your tuna sandwich. As each sandwich is made, move it to the list\n",
    "#of finished sandwiches. After all the sandwiches have been made, print a\n",
    "#message listing each sandwich that was made.\n",
    "\n",
    "sandwitch_orders=[\"chicken sandwitch\",\"mix vagi sandwitch\",\"beef sandwitch\",\"italian sandwitch\"]\n",
    "finished_sandwitch=[]\n",
    "for sandwitch in sandwitch_orders:\n",
    "    print(f\"i made your {sandwitch}\")\n",
    "    finished_sandwitch.append(sandwitch)\n",
    "print(str(finished_sandwitch)+\" \"+\"all are made for you\")"
   ]
  },
  {
   "cell_type": "code",
   "execution_count": null,
   "metadata": {},
   "outputs": [],
   "source": [
    "#excercise 7-9\n",
    "#no pestrami\n",
    "#Using the list sandwich_orders from Exercise 7-8, make sure\n",
    "#the sandwich 'pastrami' appears in the list at least three times. Add code\n",
    "#near the beginning of your program to print a message saying the deli has\n",
    "#run out of pastrami, and then use a while loop to remove all occurrences of\n",
    "#'pastrami' from sandwich_orders. Make sure no pastrami sandwiches end up\n",
    "#in finished_sandwiches.\n",
    "\n",
    "sandwitch_orders=[\"chicken sandwitch\",\"pestrami\",\"pestrami\",\"mix vagi sandwitch\",\n",
    "                  \"beef sandwitch\",\"pestrami\",\"italian sandwitch\"]\n",
    "print(\"deli has run of pestrami\")\n",
    "for x in range(len(sandwitch_orders)):\n",
    "    if sandwitch_orders[x] == 'pestrami':\n",
    "        sandwitch_orders[x]=''\n",
    "print(\"Avialable Sanwitch list \"+str(sandwitch_orders))"
   ]
  },
  {
   "cell_type": "code",
   "execution_count": 5,
   "metadata": {},
   "outputs": [
    {
     "ename": "KeyboardInterrupt",
     "evalue": "Interrupted by user",
     "output_type": "error",
     "traceback": [
      "\u001b[1;31m---------------------------------------------------------------------------\u001b[0m",
      "\u001b[1;31mKeyboardInterrupt\u001b[0m                         Traceback (most recent call last)",
      "\u001b[1;32m<ipython-input-5-adb565e2f09a>\u001b[0m in \u001b[0;36m<module>\u001b[1;34m\u001b[0m\n\u001b[0;32m      7\u001b[0m \u001b[0mlocation\u001b[0m\u001b[1;33m=\u001b[0m\u001b[1;36m1\u001b[0m\u001b[1;33m\u001b[0m\u001b[1;33m\u001b[0m\u001b[0m\n\u001b[0;32m      8\u001b[0m \u001b[1;32mwhile\u001b[0m \u001b[0mlocation\u001b[0m\u001b[1;33m:\u001b[0m\u001b[1;33m\u001b[0m\u001b[1;33m\u001b[0m\u001b[0m\n\u001b[1;32m----> 9\u001b[1;33m     \u001b[0mdream_vacation\u001b[0m\u001b[1;33m=\u001b[0m\u001b[0minput\u001b[0m\u001b[1;33m(\u001b[0m\u001b[1;34m\">>> \"\u001b[0m\u001b[1;33m)\u001b[0m\u001b[1;33m\u001b[0m\u001b[1;33m\u001b[0m\u001b[0m\n\u001b[0m\u001b[0;32m     10\u001b[0m     \u001b[0mprint\u001b[0m\u001b[1;33m(\u001b[0m\u001b[0mstr\u001b[0m\u001b[1;33m(\u001b[0m\u001b[0mdream_vacation\u001b[0m\u001b[1;33m)\u001b[0m\u001b[1;33m+\u001b[0m\u001b[1;34m\" is your dream location\"\u001b[0m\u001b[1;33m)\u001b[0m\u001b[1;33m\u001b[0m\u001b[1;33m\u001b[0m\u001b[0m\n\u001b[0;32m     11\u001b[0m     \u001b[1;32mif\u001b[0m \u001b[0mdream_vacation\u001b[0m\u001b[1;33m==\u001b[0m\u001b[1;34m\"quit\"\u001b[0m\u001b[1;33m:\u001b[0m\u001b[1;33m\u001b[0m\u001b[1;33m\u001b[0m\u001b[0m\n",
      "\u001b[1;32m~\\anaconda3\\lib\\site-packages\\ipykernel\\kernelbase.py\u001b[0m in \u001b[0;36mraw_input\u001b[1;34m(self, prompt)\u001b[0m\n\u001b[0;32m    858\u001b[0m                 \u001b[1;34m\"raw_input was called, but this frontend does not support input requests.\"\u001b[0m\u001b[1;33m\u001b[0m\u001b[1;33m\u001b[0m\u001b[0m\n\u001b[0;32m    859\u001b[0m             )\n\u001b[1;32m--> 860\u001b[1;33m         return self._input_request(str(prompt),\n\u001b[0m\u001b[0;32m    861\u001b[0m             \u001b[0mself\u001b[0m\u001b[1;33m.\u001b[0m\u001b[0m_parent_ident\u001b[0m\u001b[1;33m,\u001b[0m\u001b[1;33m\u001b[0m\u001b[1;33m\u001b[0m\u001b[0m\n\u001b[0;32m    862\u001b[0m             \u001b[0mself\u001b[0m\u001b[1;33m.\u001b[0m\u001b[0m_parent_header\u001b[0m\u001b[1;33m,\u001b[0m\u001b[1;33m\u001b[0m\u001b[1;33m\u001b[0m\u001b[0m\n",
      "\u001b[1;32m~\\anaconda3\\lib\\site-packages\\ipykernel\\kernelbase.py\u001b[0m in \u001b[0;36m_input_request\u001b[1;34m(self, prompt, ident, parent, password)\u001b[0m\n\u001b[0;32m    902\u001b[0m             \u001b[1;32mexcept\u001b[0m \u001b[0mKeyboardInterrupt\u001b[0m\u001b[1;33m:\u001b[0m\u001b[1;33m\u001b[0m\u001b[1;33m\u001b[0m\u001b[0m\n\u001b[0;32m    903\u001b[0m                 \u001b[1;31m# re-raise KeyboardInterrupt, to truncate traceback\u001b[0m\u001b[1;33m\u001b[0m\u001b[1;33m\u001b[0m\u001b[1;33m\u001b[0m\u001b[0m\n\u001b[1;32m--> 904\u001b[1;33m                 \u001b[1;32mraise\u001b[0m \u001b[0mKeyboardInterrupt\u001b[0m\u001b[1;33m(\u001b[0m\u001b[1;34m\"Interrupted by user\"\u001b[0m\u001b[1;33m)\u001b[0m \u001b[1;32mfrom\u001b[0m \u001b[1;32mNone\u001b[0m\u001b[1;33m\u001b[0m\u001b[1;33m\u001b[0m\u001b[0m\n\u001b[0m\u001b[0;32m    905\u001b[0m             \u001b[1;32mexcept\u001b[0m \u001b[0mException\u001b[0m \u001b[1;32mas\u001b[0m \u001b[0me\u001b[0m\u001b[1;33m:\u001b[0m\u001b[1;33m\u001b[0m\u001b[1;33m\u001b[0m\u001b[0m\n\u001b[0;32m    906\u001b[0m                 \u001b[0mself\u001b[0m\u001b[1;33m.\u001b[0m\u001b[0mlog\u001b[0m\u001b[1;33m.\u001b[0m\u001b[0mwarning\u001b[0m\u001b[1;33m(\u001b[0m\u001b[1;34m\"Invalid Message:\"\u001b[0m\u001b[1;33m,\u001b[0m \u001b[0mexc_info\u001b[0m\u001b[1;33m=\u001b[0m\u001b[1;32mTrue\u001b[0m\u001b[1;33m)\u001b[0m\u001b[1;33m\u001b[0m\u001b[1;33m\u001b[0m\u001b[0m\n",
      "\u001b[1;31mKeyboardInterrupt\u001b[0m: Interrupted by user"
     ]
    }
   ],
   "source": [
    "#excercise 7-10\n",
    "#Dream vacation\n",
    "#Write a program that polls users about their dream\n",
    "#vacation. Write a prompt similar to If you could visit one place in the world,\n",
    "#where would you go? Include a block of code that prints the results of the poll.\n",
    "\n",
    "location=1\n",
    "while location:\n",
    "    dream_vacation=input(\">>> \")\n",
    "    print(str(dream_vacation)+\" is your dream location\")\n",
    "    if dream_vacation==\"quit\":\n",
    "        location=0"
   ]
  },
  {
   "cell_type": "markdown",
   "metadata": {},
   "source": [
    "# Chapter 8 Functions"
   ]
  },
  {
   "cell_type": "code",
   "execution_count": 6,
   "metadata": {},
   "outputs": [
    {
     "name": "stdout",
     "output_type": "stream",
     "text": [
      "in this chapter i am learning functions\n"
     ]
    }
   ],
   "source": [
    "#excercise 8-1\n",
    "#message\n",
    "#Write a function called display_message() that prints one sentence \n",
    "#telling everyone what you are learning about in this chapter. Call the\n",
    "#function, and make sure the message displays correctly.\n",
    "\n",
    "def display_message():\n",
    "    print(\"in this chapter i am learning functions\")\n",
    "display_message()"
   ]
  },
  {
   "cell_type": "code",
   "execution_count": 16,
   "metadata": {},
   "outputs": [
    {
     "name": "stdout",
     "output_type": "stream",
     "text": [
      "my favourite book is Python Crash Course\n"
     ]
    }
   ],
   "source": [
    "#excercise 8-2\n",
    "#favourite book\n",
    "#Write a function called favorite_book() that accepts one\n",
    "#parameter, title. The function should print a message, such as One of my\n",
    "#favorite books is Alice in Wonderland. Call the function, making sure to\n",
    "#include a book title as an argument in the function call.\n",
    "\n",
    "def fav_book(book=\"python crash course\"):\n",
    "    print(\"my favourite book is \"+book.title())\n",
    "fav_book()"
   ]
  },
  {
   "cell_type": "code",
   "execution_count": 31,
   "metadata": {},
   "outputs": [
    {
     "name": "stdout",
     "output_type": "stream",
     "text": [
      "the size of my shirt is: Medium\n",
      "the length of my shirt is: 14\n",
      "the collar of my shirt is: V-Neck\n"
     ]
    }
   ],
   "source": [
    "#excercise 8-3\n",
    "#T-shirt\n",
    "#Write a function called make_shirt() that accepts a size and the\n",
    "#text of a message that should be printed on the shirt. The function should print\n",
    "#a sentence summarizing the size of the shirt and the message printed on it.\n",
    "#Call the function once using positional arguments to make a shirt. Call the\n",
    "#function a second time using keyword arguments.\n",
    "\n",
    "def make_Tshirt(size=\"medium\",length=14,collar=\"V-neck\"):\n",
    "    print(\"the size of my shirt is: \"+str(size.title())\n",
    "         +\"\\nthe length of my shirt is: \"+str(length)\n",
    "         +\"\\nthe collar of my shirt is: \"+str(collar.title())\n",
    "         )\n",
    "make_Tshirt()"
   ]
  },
  {
   "cell_type": "code",
   "execution_count": 46,
   "metadata": {},
   "outputs": [
    {
     "name": "stdout",
     "output_type": "stream",
     "text": [
      "My shirt size is 22\n",
      "Your short is to large\n"
     ]
    }
   ],
   "source": [
    "#excercise 8-4\n",
    "#large shirt\n",
    "#Modify the make_shirt() function so that shirts are large\n",
    "#by default with a message that reads I love Python. Make a large shirt and a\n",
    "#medium shirt with the default message, and a shirt of any size with a different\n",
    "#message.\n",
    "\n",
    "def large_shirt(text,size=0):\n",
    "    if text ==\"i love python\":\n",
    "        print(\"Your shirt is to large\")\n",
    "    else:\n",
    "        print(text+\" \"+str(size)) \n",
    "make_shirt(\"My shirt size is\",size=22)\n",
    "make_shirt(\"i love python\",size=22)"
   ]
  },
  {
   "cell_type": "code",
   "execution_count": 50,
   "metadata": {},
   "outputs": [
    {
     "name": "stdout",
     "output_type": "stream",
     "text": [
      "karachi present in pakistan\n",
      "tokyo present in japan\n",
      "istanbul present in turkey\n"
     ]
    }
   ],
   "source": [
    "#excercise 8-5\n",
    "#cities\n",
    "#Write a function called describe_city() that accepts the name of\n",
    "#a city and its country. The function should print a simple sentence, such as\n",
    "#Reykjavik is in Iceland. Give the parameter for the country a default value.\n",
    "#Call your function for three different cities, at least one of which is not in the\n",
    "#default country\n",
    "\n",
    "def cities(city,country):\n",
    "    print(city+\" present in \"+country)\n",
    "cities(\"karachi\",\"pakistan\")\n",
    "cities(\"tokyo\",\"japan\")\n",
    "cities(\"istanbul\",\"turkey\")"
   ]
  },
  {
   "cell_type": "code",
   "execution_count": 56,
   "metadata": {},
   "outputs": [
    {
     "name": "stdout",
     "output_type": "stream",
     "text": [
      "\"karachi,pakistan\"\n",
      "\"tokyo,japan\"\n",
      "\"intanbul,turkey\"\n"
     ]
    }
   ],
   "source": [
    "#excercise 8-6\n",
    "#city names\n",
    "#Write a function called city_country() that takes in the name\n",
    "#of a city and its country. The function should return a string formatted like this:\n",
    "#\"Santiago, Chile\"\n",
    "#Call your function with at least three city-country pairs, and print the value\n",
    "#that’s returned.\n",
    "\n",
    "def city_country(city,coutry):\n",
    "    print(\"\\\"{0},{1}\\\"\".format(city,coutry))\n",
    "city_country(\"karachi\",\"pakistan\")\n",
    "city_country(\"tokyo\",\"japan\")\n",
    "city_country(\"intanbul\",\"turkey\")"
   ]
  },
  {
   "cell_type": "code",
   "execution_count": 68,
   "metadata": {},
   "outputs": [
    {
     "name": "stdout",
     "output_type": "stream",
     "text": [
      "\"Karachi Pakistan\"\n",
      "\"Tokyo Japan\"\n"
     ]
    }
   ],
   "source": [
    "def city_country(first,last):\n",
    "    citycountry=first+\" \"+last\n",
    "    return citycountry.title()\n",
    "place=city_country(\"\\\"karachi\",\"pakistan\\\"\")\n",
    "print(place)\n",
    "place=city_country(\"\\\"tokyo\",\"japan\\\"\")\n",
    "print(place)"
   ]
  },
  {
   "cell_type": "code",
   "execution_count": null,
   "metadata": {},
   "outputs": [],
   "source": []
  }
 ],
 "metadata": {
  "kernelspec": {
   "display_name": "Python 3",
   "language": "python",
   "name": "python3"
  },
  "language_info": {
   "codemirror_mode": {
    "name": "ipython",
    "version": 3
   },
   "file_extension": ".py",
   "mimetype": "text/x-python",
   "name": "python",
   "nbconvert_exporter": "python",
   "pygments_lexer": "ipython3",
   "version": "3.8.5"
  }
 },
 "nbformat": 4,
 "nbformat_minor": 4
}
