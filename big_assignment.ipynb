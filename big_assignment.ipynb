{
 "cells": [
  {
   "cell_type": "markdown",
   "metadata": {},
   "source": [
    "# Chapter 2 variable and simple data types"
   ]
  },
  {
   "cell_type": "code",
   "execution_count": 30,
   "metadata": {},
   "outputs": [
    {
     "name": "stdout",
     "output_type": "stream",
     "text": [
      "my name is Asim and i am a student of AI & DS\n"
     ]
    }
   ],
   "source": [
    "#excercise 2-1\n",
    "introduction=\"my name is Asim and i am a student of AI & DS\"\n",
    "print(introduction)"
   ]
  },
  {
   "cell_type": "code",
   "execution_count": 31,
   "metadata": {},
   "outputs": [],
   "source": [
    "#excercise 2-2\n",
    "#change the value of a variable\n",
    "introduction=\"i am a student of AI & DS\""
   ]
  },
  {
   "cell_type": "code",
   "execution_count": 32,
   "metadata": {},
   "outputs": [
    {
     "name": "stdout",
     "output_type": "stream",
     "text": [
      "i am a student of AI & DS\n"
     ]
    }
   ],
   "source": [
    "print(introduction)"
   ]
  },
  {
   "cell_type": "code",
   "execution_count": 44,
   "metadata": {},
   "outputs": [
    {
     "name": "stdout",
     "output_type": "stream",
     "text": [
      "Hello Muhammad Asim would you like to learn some python today\n"
     ]
    }
   ],
   "source": [
    "#excercise 2-3\n",
    "#Personal message\n",
    "name=\"Muhammad Asim\"\n",
    "print(\"Hello \"+name.title()+\" would you like to learn some python today\")"
   ]
  },
  {
   "cell_type": "code",
   "execution_count": 45,
   "metadata": {},
   "outputs": [
    {
     "name": "stdout",
     "output_type": "stream",
     "text": [
      "Muhammad Asim\n",
      "MUHAMMAD ASIM\n",
      "muhammad asim\n"
     ]
    }
   ],
   "source": [
    "#excercise 2-4\n",
    "#Name cases\n",
    "name=\"Muhammad Asim\"\n",
    "print(name.title())\n",
    "print(name.upper())\n",
    "print(name.lower())"
   ]
  },
  {
   "cell_type": "code",
   "execution_count": 53,
   "metadata": {},
   "outputs": [
    {
     "name": "stdout",
     "output_type": "stream",
     "text": [
      "Alber einstein once said \"A person who never made a mistake never tried anything new.\"\n"
     ]
    }
   ],
   "source": [
    "#excercise 2-5\n",
    "print('Alber einstein once said \"A person who never made a mistake never tried anything new.\"')"
   ]
  },
  {
   "cell_type": "code",
   "execution_count": 57,
   "metadata": {},
   "outputs": [
    {
     "name": "stdout",
     "output_type": "stream",
     "text": [
      "Albert Einstein once said A person who never made a mistake never tried anything new.\n"
     ]
    }
   ],
   "source": [
    "#excercise 2-6\n",
    "famous_person=\"Albert Einstein\"\n",
    "message=\"once said A person who never made a mistake never tried anything new.\"\n",
    "print(famous_person+\" \"+message)"
   ]
  },
  {
   "cell_type": "code",
   "execution_count": 69,
   "metadata": {},
   "outputs": [
    {
     "name": "stdout",
     "output_type": "stream",
     "text": [
      "\n",
      "\tAsim \n"
     ]
    },
    {
     "data": {
      "text/plain": [
       "'Asim'"
      ]
     },
     "execution_count": 69,
     "metadata": {},
     "output_type": "execute_result"
    }
   ],
   "source": [
    "#excercise 2-7\n",
    "#striping names\n",
    "name= \"\\n\\tAsim \"\n",
    "print(name)\n",
    "#remove the whitespace from right side\n",
    "name=\"Asim \"\n",
    "name.rstrip()"
   ]
  },
  {
   "cell_type": "code",
   "execution_count": 71,
   "metadata": {},
   "outputs": [
    {
     "data": {
      "text/plain": [
       "'Asim'"
      ]
     },
     "execution_count": 71,
     "metadata": {},
     "output_type": "execute_result"
    }
   ],
   "source": [
    "#remove the whitespace from left side\n",
    "name=\" Asim\"\n",
    "name.lstrip()"
   ]
  },
  {
   "cell_type": "code",
   "execution_count": 74,
   "metadata": {},
   "outputs": [
    {
     "data": {
      "text/plain": [
       "'Asim'"
      ]
     },
     "execution_count": 74,
     "metadata": {},
     "output_type": "execute_result"
    }
   ],
   "source": [
    "#remove the whitespace from both sides\n",
    "name=\" Asim \"\n",
    "name.strip()"
   ]
  },
  {
   "cell_type": "code",
   "execution_count": 77,
   "metadata": {},
   "outputs": [
    {
     "name": "stdout",
     "output_type": "stream",
     "text": [
      "10\n",
      "10\n",
      "2.5\n",
      "10\n"
     ]
    }
   ],
   "source": [
    "#excercise 2-8\n",
    "#add,subtract,multiply and divide\n",
    "print(5+5)\n",
    "print(15-5)\n",
    "print(5/2)\n",
    "print(2*5)"
   ]
  },
  {
   "cell_type": "code",
   "execution_count": 81,
   "metadata": {},
   "outputs": [
    {
     "name": "stdout",
     "output_type": "stream",
     "text": [
      "9 is my lucky number\n"
     ]
    }
   ],
   "source": [
    "#excercise 2-9\n",
    "lucky_num=9\n",
    "print(str(lucky_num)+\" is my lucky number\")"
   ]
  },
  {
   "cell_type": "markdown",
   "metadata": {},
   "source": [
    "# Chapter 3 introducing list"
   ]
  },
  {
   "cell_type": "code",
   "execution_count": 86,
   "metadata": {},
   "outputs": [
    {
     "name": "stdout",
     "output_type": "stream",
     "text": [
      "Azhar\n",
      "Nabeel\n",
      "Usama\n",
      "Affan\n"
     ]
    }
   ],
   "source": [
    "#excercise 3-1\n",
    "#Names\n",
    "group_members=[\"Azhar\",\"Nabeel\",\"Usama\",\"Affan\"]\n",
    "print(group_members[0])\n",
    "print(group_members[1])\n",
    "print(group_members[2])\n",
    "print(group_members[3])"
   ]
  },
  {
   "cell_type": "code",
   "execution_count": 8,
   "metadata": {},
   "outputs": [
    {
     "name": "stdout",
     "output_type": "stream",
     "text": [
      "Nabeel is our group leader\n",
      "Azhar is a git commands champion\n"
     ]
    }
   ],
   "source": [
    "#excercise 3-2\n",
    "#Greetings\n",
    "group_members=[\"Azhar\",\"Nabeel\",\"Usama\",\"Affan\"]\n",
    "message=group_members[1]+\" is our group leader\\n\"+group_members[0]+\" is a git commands champion\"\n",
    "print(message)"
   ]
  },
  {
   "cell_type": "code",
   "execution_count": 10,
   "metadata": {},
   "outputs": [
    {
     "name": "stdout",
     "output_type": "stream",
     "text": [
      "Kawasaki Ninja is my favourite bike but i have 70cc\n"
     ]
    }
   ],
   "source": [
    "#excercise 3-3\n",
    "#your own list\n",
    "bikes=[\"Kawasaki Ninja\",\"70cc\",\"Honda 125\"]\n",
    "print(bikes[0]+\" is my favourite bike but i have \"+bikes[1])"
   ]
  },
  {
   "cell_type": "code",
   "execution_count": 49,
   "metadata": {},
   "outputs": [
    {
     "name": "stdout",
     "output_type": "stream",
     "text": [
      "Nabeel you're invited for dinner at my home!\n",
      "Azhar you're invited for dinner at my home!\n",
      "Affan you're invited for dinner at my home!\n",
      "\n",
      "Affan says sorry i'm not coming for dinner because i'm very sick today.\n",
      "\n",
      "i decided to invite 'Sohaib' for dinner in replacement of 'Affan'\n",
      "Hey Sohaib you're invited for dinner at my home!\n",
      "\n",
      "Nabeel you're invited for dinner at my home!\n",
      "Azhar you're invited for dinner at my home!\n",
      "Sohaib you're invited for dinner at my home!\n",
      "\n",
      "hey guys i have found a bigger dinner table and i decided to invite more guests.\n",
      "\n",
      "Nabeel you're invited for dinner at my home!\n",
      "Azhar you're invited for dinner at my home!\n",
      "Sohaib you're invited for dinner at my home!\n",
      "Usama you're invited for dinner at my home!\n",
      "Sir Nasir you're invited for dinner at my home!\n",
      "Mohsin you're invited for dinner at my home!\n"
     ]
    }
   ],
   "source": [
    "#excercise 3-4\n",
    "#Make a guest list and inviting an each person for dinner\n",
    "guests=[\"Nabeel\",\"Azhar\",\"Affan\"]\n",
    "print(guests[0]+\" you're invited for dinner at my home!\\n\"\n",
    "      +guests[1]+\" you're invited for dinner at my home!\\n\"\n",
    "      +guests[2]+\" you're invited for dinner at my home!\\n\")\n",
    "\n",
    "#excercise 3-5\n",
    "#a person who never come for dinner due to some reason\n",
    "print(guests[2]+\" says sorry i'm not coming for dinner because i'm very sick today.\\n\")\n",
    "\n",
    "#and i am inviting an other person in replacement of affan\n",
    "guests[2]=\"Sohaib\"\n",
    "print(\"i decided to invite 'Sohaib' for dinner in replacement of 'Affan'\")\n",
    "print(\"Hey \"+guests[2]+\" you're invited for dinner at my home!\\n\")\n",
    "print(guests[0]+\" you're invited for dinner at my home!\\n\"\n",
    "      +guests[1]+\" you're invited for dinner at my home!\\n\"\n",
    "      +guests[2]+\" you're invited for dinner at my home!\\n\")\n",
    "#excercise 3-6\n",
    "#i am informing guests in my list that i am inviting more guests for dinner \n",
    "print(\"hey guys i have found a bigger dinner table and i decided to invite more guests.\\n\")\n",
    "#add more three guests in my list using insert()\n",
    "guests.insert(3,\"Usama\")\n",
    "guests.insert(4,\"Sir Nasir\")\n",
    "guests.append(\"Mohsin\")\n",
    "print(guests[0]+\" you're invited for dinner at my home!\\n\"\n",
    "      +guests[1]+\" you're invited for dinner at my home!\\n\"\n",
    "      +guests[2]+\" you're invited for dinner at my home!\\n\"\n",
    "     +guests[3]+\" you're invited for dinner at my home!\\n\"\n",
    "     +guests[4]+\" you're invited for dinner at my home!\\n\"\n",
    "     +guests[5]+\" you're invited for dinner at my home!\")"
   ]
  },
  {
   "cell_type": "code",
   "execution_count": 50,
   "metadata": {},
   "outputs": [
    {
     "name": "stdout",
     "output_type": "stream",
     "text": [
      "sorry guys due to some problem i can invite only 2 peoples for dinner.\n",
      "\n",
      "Mohsin sorry bro you can't invited for dinner\n",
      "Sir Nasir sorry bro you can't invited for dinner\n",
      "Usama sorry bro you can't invited for dinner\n",
      "Sohaib sorry bro you can't invited for dinner\n",
      "\n",
      "Azhar you're still invited for dinner\n",
      "Nabeel you're still invited for dinner\n",
      "[]\n"
     ]
    }
   ],
   "source": [
    "#excercise 3-7\n",
    "#Shrinking guests list\n",
    "print(\"sorry guys due to some problem i can invite only 2 peoples for dinner.\\n\")\n",
    "print(guests.pop()+\" sorry bro you can't invited for dinner\")\n",
    "print(guests.pop()+\" sorry bro you can't invited for dinner\")\n",
    "print(guests.pop()+\" sorry bro you can't invited for dinner\")\n",
    "print(guests.pop()+\" sorry bro you can't invited for dinner\\n\")\n",
    "print(guests[1]+\" you're still invited for dinner\")\n",
    "print(guests[0]+\" you're still invited for dinner\")\n",
    "del guests[1]\n",
    "del guests[0]\n",
    "print(guests)"
   ]
  },
  {
   "cell_type": "code",
   "execution_count": null,
   "metadata": {},
   "outputs": [],
   "source": []
  }
 ],
 "metadata": {
  "kernelspec": {
   "display_name": "Python 3",
   "language": "python",
   "name": "python3"
  },
  "language_info": {
   "codemirror_mode": {
    "name": "ipython",
    "version": 3
   },
   "file_extension": ".py",
   "mimetype": "text/x-python",
   "name": "python",
   "nbconvert_exporter": "python",
   "pygments_lexer": "ipython3",
   "version": "3.8.5"
  }
 },
 "nbformat": 4,
 "nbformat_minor": 4
}
